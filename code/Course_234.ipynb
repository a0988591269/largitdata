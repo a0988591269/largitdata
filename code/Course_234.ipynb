{
 "cells": [
  {
   "cell_type": "code",
   "execution_count": null,
   "id": "b90912b1",
   "metadata": {},
   "outputs": [],
   "source": [
    "cell1:\n",
    "df = xl(\"Churn_Modelling[#全部]\", headers=True)\n",
    "\n",
    "\n",
    "cell2:\n",
    "df['Exited'].value_counts().plot(kind = 'pie')\n",
    "\n",
    "\n",
    "cell3:\n",
    "df['Exited'].value_counts().plot(kind = 'bar')\n",
    "\n",
    "cell4:\n",
    "df['Exited'].value_counts().plot(kind = 'bar', rot= 0, color= ['orange', 'blue'], title = 'Exit Count Analysis')\n",
    "\n",
    "\n",
    "cell5: \n",
    "import seaborn as sns\n",
    "df2 = df[['CreditScore', 'Age', 'Tenure', 'Balance', 'NumOfProducts', 'HasCrCard', 'IsActiveMember', 'EstimatedSalary','Exited']]\n",
    "df_corr = df2.corr()\n",
    "f, ax = plt.subplots(figsize=(14, 9))\n",
    "sns.heatmap(df_corr,\n",
    " xticklabels=df_corr.columns.values,\n",
    " yticklabels=df_corr.columns.values,annot= True)\n",
    "plt.show()\n",
    "\n",
    "cell6: \n",
    "import seaborn as sns\n",
    "sns.regplot(data = df[[\"Age\",\"Balance\"]], x = \"Age\", y = \"Balance\")\n",
    "\n",
    "\n",
    "cell7:\n",
    "from sklearn.ensemble import RandomForestClassifier\n",
    "\n",
    "df2 = df[['CreditScore', 'Age', 'Tenure', 'Balance', 'NumOfProducts', 'HasCrCard', 'IsActiveMember', 'EstimatedSalary','Exited']]\n",
    "\n",
    "y = df2.iloc[:,-1]\n",
    "X = df2.iloc[:,0:-1]\n",
    "\n",
    "classifier = RandomForestClassifier()\n",
    "classifier.fit(X,y)\n",
    "\n",
    "\n",
    "cell8: \n",
    "sample = xl(\"D1:M9\", headers=True)\n",
    "sample_X = sample[['CreditScore', 'Age', 'Tenure', 'Balance', 'NumOfProducts', 'HasCrCard', 'IsActiveMember', 'EstimatedSalary']]\n",
    "\n",
    "y_ = classifier.predict(sample_X)\n",
    "y_"
   ]
  }
 ],
 "metadata": {
  "kernelspec": {
   "display_name": "Python 3 (ipykernel)",
   "language": "python",
   "name": "python3"
  },
  "language_info": {
   "codemirror_mode": {
    "name": "ipython",
    "version": 3
   },
   "file_extension": ".py",
   "mimetype": "text/x-python",
   "name": "python",
   "nbconvert_exporter": "python",
   "pygments_lexer": "ipython3",
   "version": "3.8.10"
  }
 },
 "nbformat": 4,
 "nbformat_minor": 5
}
