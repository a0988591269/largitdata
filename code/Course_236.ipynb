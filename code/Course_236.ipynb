{
 "cells": [
  {
   "cell_type": "code",
   "execution_count": 1,
   "id": "f840cd8e",
   "metadata": {
    "collapsed": true
   },
   "outputs": [
    {
     "name": "stdout",
     "output_type": "stream",
     "text": [
      "Requirement already satisfied: PyAutoGUI in /Users/david/.pyenv/versions/3.8.10/lib/python3.8/site-packages (0.9.54)\n",
      "Requirement already satisfied: pymsgbox in /Users/david/.pyenv/versions/3.8.10/lib/python3.8/site-packages (from PyAutoGUI) (1.0.9)\n",
      "Requirement already satisfied: pytweening>=1.0.4 in /Users/david/.pyenv/versions/3.8.10/lib/python3.8/site-packages (from PyAutoGUI) (1.0.7)\n",
      "Requirement already satisfied: pyscreeze>=0.1.21 in /Users/david/.pyenv/versions/3.8.10/lib/python3.8/site-packages (from PyAutoGUI) (0.1.29)\n",
      "Requirement already satisfied: pygetwindow>=0.0.5 in /Users/david/.pyenv/versions/3.8.10/lib/python3.8/site-packages (from PyAutoGUI) (0.0.9)\n",
      "Requirement already satisfied: mouseinfo in /Users/david/.pyenv/versions/3.8.10/lib/python3.8/site-packages (from PyAutoGUI) (0.1.3)\n",
      "Requirement already satisfied: pyobjc-core in /Users/david/.pyenv/versions/3.8.10/lib/python3.8/site-packages (from PyAutoGUI) (7.3)\n",
      "Requirement already satisfied: pyobjc-framework-quartz in /Users/david/.pyenv/versions/3.8.10/lib/python3.8/site-packages (from PyAutoGUI) (7.3)\n",
      "Requirement already satisfied: pyrect in /Users/david/.pyenv/versions/3.8.10/lib/python3.8/site-packages (from pygetwindow>=0.0.5->PyAutoGUI) (0.2.0)\n",
      "Requirement already satisfied: pyscreenshot in /Users/david/.pyenv/versions/3.8.10/lib/python3.8/site-packages (from pyscreeze>=0.1.21->PyAutoGUI) (3.1)\n",
      "Requirement already satisfied: Pillow>=9.2.0 in /Users/david/.pyenv/versions/3.8.10/lib/python3.8/site-packages (from pyscreeze>=0.1.21->PyAutoGUI) (9.2.0)\n",
      "Requirement already satisfied: pyperclip in /Users/david/.pyenv/versions/3.8.10/lib/python3.8/site-packages (from mouseinfo->PyAutoGUI) (1.8.2)\n",
      "Requirement already satisfied: rubicon-objc in /Users/david/.pyenv/versions/3.8.10/lib/python3.8/site-packages (from mouseinfo->PyAutoGUI) (0.4.7)\n",
      "Requirement already satisfied: pyobjc-framework-Cocoa>=7.3 in /Users/david/.pyenv/versions/3.8.10/lib/python3.8/site-packages (from pyobjc-framework-quartz->PyAutoGUI) (7.3)\n",
      "Requirement already satisfied: EasyProcess in /Users/david/.pyenv/versions/3.8.10/lib/python3.8/site-packages (from pyscreenshot->pyscreeze>=0.1.21->PyAutoGUI) (1.1)\n",
      "Requirement already satisfied: entrypoint2 in /Users/david/.pyenv/versions/3.8.10/lib/python3.8/site-packages (from pyscreenshot->pyscreeze>=0.1.21->PyAutoGUI) (1.1)\n",
      "Requirement already satisfied: mss in /Users/david/.pyenv/versions/3.8.10/lib/python3.8/site-packages (from pyscreenshot->pyscreeze>=0.1.21->PyAutoGUI) (9.0.1)\n",
      "\u001b[33mDEPRECATION: celery 4.4.2 has a non-standard dependency specifier pytz>dev. pip 23.3 will enforce this behaviour change. A possible replacement is to upgrade to a newer version of celery or contact the author to suggest that they release a version with a conforming dependency specifiers. Discussion can be found at https://github.com/pypa/pip/issues/12063\u001b[0m\u001b[33m\n",
      "\u001b[0m\n",
      "\u001b[1m[\u001b[0m\u001b[34;49mnotice\u001b[0m\u001b[1;39;49m]\u001b[0m\u001b[39;49m A new release of pip is available: \u001b[0m\u001b[31;49m23.2.1\u001b[0m\u001b[39;49m -> \u001b[0m\u001b[32;49m23.3.1\u001b[0m\n",
      "\u001b[1m[\u001b[0m\u001b[34;49mnotice\u001b[0m\u001b[1;39;49m]\u001b[0m\u001b[39;49m To update, run: \u001b[0m\u001b[32;49mpip install --upgrade pip\u001b[0m\n"
     ]
    }
   ],
   "source": [
    "! pip install PyAutoGUI"
   ]
  },
  {
   "cell_type": "code",
   "execution_count": 18,
   "id": "f86fee49",
   "metadata": {},
   "outputs": [],
   "source": [
    "import pyautogui\n",
    "import time\n",
    "\n",
    "# 熱門活動\n",
    "pyautogui.click(1469, 902) \n",
    "time.sleep(1)\n",
    "pyautogui.click(1469, 902) \n",
    "time.sleep(1)\n",
    "\n",
    "# 狂灑百萬紅包\n",
    "pyautogui.click(1305, 801) \n",
    "\n",
    "time.sleep(3)\n",
    "\n",
    "# 搶紅包\n",
    "pyautogui.click(1396, 775) \n",
    "\n",
    "time.sleep(1)\n",
    "\n",
    "# 確認\n",
    "pyautogui.click(1398, 738)  "
   ]
  },
  {
   "cell_type": "code",
   "execution_count": 19,
   "id": "07dc2e16",
   "metadata": {},
   "outputs": [],
   "source": [
    "import pyautogui\n",
    "import time\n",
    "\n",
    "for i in range(3):\n",
    "    # 熱門活動\n",
    "    pyautogui.click(1469, 902) \n",
    "    time.sleep(1)\n",
    "    pyautogui.click(1469, 902) \n",
    "    time.sleep(1)\n",
    "\n",
    "    # 狂灑百萬紅包\n",
    "    pyautogui.click(1305, 801) \n",
    "\n",
    "    time.sleep(3)\n",
    "\n",
    "    # 搶紅包\n",
    "    pyautogui.click(1396, 775) \n",
    "\n",
    "    time.sleep(1)\n",
    "\n",
    "    # 確認\n",
    "    pyautogui.click(1398, 738)  "
   ]
  }
 ],
 "metadata": {
  "kernelspec": {
   "display_name": "Python 3 (ipykernel)",
   "language": "python",
   "name": "python3"
  },
  "language_info": {
   "codemirror_mode": {
    "name": "ipython",
    "version": 3
   },
   "file_extension": ".py",
   "mimetype": "text/x-python",
   "name": "python",
   "nbconvert_exporter": "python",
   "pygments_lexer": "ipython3",
   "version": "3.8.10"
  }
 },
 "nbformat": 4,
 "nbformat_minor": 5
}
