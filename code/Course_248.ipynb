{
 "cells": [
  {
   "cell_type": "code",
   "execution_count": 7,
   "id": "f998456c-9a14-43ed-a3cc-800f6b2efc4d",
   "metadata": {},
   "outputs": [],
   "source": [
    "import requests\n",
    "headers = {\n",
    "   'User-Agent':  'Mozilla/5.0 (Macintosh; Intel Mac OS X 10_15_7) AppleWebKit/537.36 (KHTML, like Gecko) Chrome/130.0.0.0 Safari/537.36'\n",
    "}\n",
    "rs = requests.session()\n",
    "res = rs.get('https://www.tdcc.com.tw/portal/zh/smWeb/qryStock', headers = headers)"
   ]
  },
  {
   "cell_type": "code",
   "execution_count": 2,
   "id": "f1491ef5-0b59-4d04-ab34-68b41fb9e128",
   "metadata": {},
   "outputs": [],
   "source": [
    "#res.text"
   ]
  },
  {
   "cell_type": "code",
   "execution_count": 8,
   "id": "a366179d-92aa-41be-a5a5-2be4a9a367e9",
   "metadata": {},
   "outputs": [],
   "source": [
    "from bs4 import BeautifulSoup\n",
    "soup = BeautifulSoup(res.text, 'lxml')\n",
    "payload = dict([ (e.get('name'), e.get('value')) for e in soup.select('input[type=hidden]')])"
   ]
  },
  {
   "cell_type": "code",
   "execution_count": 9,
   "id": "f911d2ab-f667-49c0-9e72-64218c6b93d2",
   "metadata": {},
   "outputs": [],
   "source": [
    "payload['scaDate'] = '20241101'\n",
    "payload['sqlMethod'] = 'StockNo'\n",
    "payload['stockNo'] = '2330'\n"
   ]
  },
  {
   "cell_type": "code",
   "execution_count": 10,
   "id": "76cc04ea-2602-45d1-8755-e22edefb6228",
   "metadata": {},
   "outputs": [],
   "source": [
    "res2 = rs.post('https://www.tdcc.com.tw/portal/zh/smWeb/qryStock', headers = headers, data = payload)"
   ]
  },
  {
   "cell_type": "code",
   "execution_count": 12,
   "id": "62d09ef0-c3c6-4c6d-b28e-e051ac57ae3f",
   "metadata": {},
   "outputs": [],
   "source": [
    "#res2.text"
   ]
  },
  {
   "cell_type": "code",
   "execution_count": 13,
   "id": "ae73d652-c2e4-48b8-8008-7b2846c8acfa",
   "metadata": {},
   "outputs": [
    {
     "name": "stderr",
     "output_type": "stream",
     "text": [
      "/var/folders/21/1tszsz8n1vdd79rbhmdnwwqc0000gn/T/ipykernel_25387/38199660.py:2: FutureWarning: Passing literal html to 'read_html' is deprecated and will be removed in a future version. To read from a literal string, wrap it in a 'StringIO' object.\n",
      "  dfs = pandas.read_html(res2.text)\n"
     ]
    }
   ],
   "source": [
    "import pandas\n",
    "dfs = pandas.read_html(res2.text)"
   ]
  },
  {
   "cell_type": "code",
   "execution_count": 15,
   "id": "95e64834-a4c2-408e-b8ee-3ecb1f8a4c5a",
   "metadata": {},
   "outputs": [
    {
     "data": {
      "text/html": [
       "<div>\n",
       "<style scoped>\n",
       "    .dataframe tbody tr th:only-of-type {\n",
       "        vertical-align: middle;\n",
       "    }\n",
       "\n",
       "    .dataframe tbody tr th {\n",
       "        vertical-align: top;\n",
       "    }\n",
       "\n",
       "    .dataframe thead th {\n",
       "        text-align: right;\n",
       "    }\n",
       "</style>\n",
       "<table border=\"1\" class=\"dataframe\">\n",
       "  <thead>\n",
       "    <tr style=\"text-align: right;\">\n",
       "      <th></th>\n",
       "      <th>序</th>\n",
       "      <th>持股/單位數分級</th>\n",
       "      <th>人數</th>\n",
       "      <th>股數/單位數</th>\n",
       "      <th>占集保庫存數比例 (%)</th>\n",
       "    </tr>\n",
       "  </thead>\n",
       "  <tbody>\n",
       "    <tr>\n",
       "      <th>0</th>\n",
       "      <td>1</td>\n",
       "      <td>1-999</td>\n",
       "      <td>970162</td>\n",
       "      <td>148669118</td>\n",
       "      <td>0.57</td>\n",
       "    </tr>\n",
       "    <tr>\n",
       "      <th>1</th>\n",
       "      <td>2</td>\n",
       "      <td>1,000-5,000</td>\n",
       "      <td>340376</td>\n",
       "      <td>653557399</td>\n",
       "      <td>2.52</td>\n",
       "    </tr>\n",
       "    <tr>\n",
       "      <th>2</th>\n",
       "      <td>3</td>\n",
       "      <td>5,001-10,000</td>\n",
       "      <td>41132</td>\n",
       "      <td>297795574</td>\n",
       "      <td>1.14</td>\n",
       "    </tr>\n",
       "    <tr>\n",
       "      <th>3</th>\n",
       "      <td>4</td>\n",
       "      <td>10,001-15,000</td>\n",
       "      <td>14273</td>\n",
       "      <td>175900847</td>\n",
       "      <td>0.67</td>\n",
       "    </tr>\n",
       "    <tr>\n",
       "      <th>4</th>\n",
       "      <td>5</td>\n",
       "      <td>15,001-20,000</td>\n",
       "      <td>6754</td>\n",
       "      <td>119355154</td>\n",
       "      <td>0.46</td>\n",
       "    </tr>\n",
       "    <tr>\n",
       "      <th>5</th>\n",
       "      <td>6</td>\n",
       "      <td>20,001-30,000</td>\n",
       "      <td>6766</td>\n",
       "      <td>165777072</td>\n",
       "      <td>0.63</td>\n",
       "    </tr>\n",
       "    <tr>\n",
       "      <th>6</th>\n",
       "      <td>7</td>\n",
       "      <td>30,001-40,000</td>\n",
       "      <td>3183</td>\n",
       "      <td>110618298</td>\n",
       "      <td>0.42</td>\n",
       "    </tr>\n",
       "    <tr>\n",
       "      <th>7</th>\n",
       "      <td>8</td>\n",
       "      <td>40,001-50,000</td>\n",
       "      <td>1907</td>\n",
       "      <td>86144274</td>\n",
       "      <td>0.33</td>\n",
       "    </tr>\n",
       "    <tr>\n",
       "      <th>8</th>\n",
       "      <td>9</td>\n",
       "      <td>50,001-100,000</td>\n",
       "      <td>3765</td>\n",
       "      <td>262934181</td>\n",
       "      <td>1.01</td>\n",
       "    </tr>\n",
       "    <tr>\n",
       "      <th>9</th>\n",
       "      <td>10</td>\n",
       "      <td>100,001-200,000</td>\n",
       "      <td>1912</td>\n",
       "      <td>265348010</td>\n",
       "      <td>1.02</td>\n",
       "    </tr>\n",
       "    <tr>\n",
       "      <th>10</th>\n",
       "      <td>11</td>\n",
       "      <td>200,001-400,000</td>\n",
       "      <td>1253</td>\n",
       "      <td>349991801</td>\n",
       "      <td>1.34</td>\n",
       "    </tr>\n",
       "    <tr>\n",
       "      <th>11</th>\n",
       "      <td>12</td>\n",
       "      <td>400,001-600,000</td>\n",
       "      <td>556</td>\n",
       "      <td>273382543</td>\n",
       "      <td>1.05</td>\n",
       "    </tr>\n",
       "    <tr>\n",
       "      <th>12</th>\n",
       "      <td>13</td>\n",
       "      <td>600,001-800,000</td>\n",
       "      <td>322</td>\n",
       "      <td>224449946</td>\n",
       "      <td>0.86</td>\n",
       "    </tr>\n",
       "    <tr>\n",
       "      <th>13</th>\n",
       "      <td>14</td>\n",
       "      <td>800,001-1,000,000</td>\n",
       "      <td>204</td>\n",
       "      <td>184661357</td>\n",
       "      <td>0.71</td>\n",
       "    </tr>\n",
       "    <tr>\n",
       "      <th>14</th>\n",
       "      <td>15</td>\n",
       "      <td>1,000,001以上</td>\n",
       "      <td>1540</td>\n",
       "      <td>22614147668</td>\n",
       "      <td>87.20</td>\n",
       "    </tr>\n",
       "    <tr>\n",
       "      <th>15</th>\n",
       "      <td>16</td>\n",
       "      <td>合　計</td>\n",
       "      <td>1394105</td>\n",
       "      <td>25932733242</td>\n",
       "      <td>100.00</td>\n",
       "    </tr>\n",
       "  </tbody>\n",
       "</table>\n",
       "</div>"
      ],
      "text/plain": [
       "     序           持股/單位數分級       人數       股數/單位數  占集保庫存數比例 (%)\n",
       "0    1              1-999   970162    148669118          0.57\n",
       "1    2        1,000-5,000   340376    653557399          2.52\n",
       "2    3       5,001-10,000    41132    297795574          1.14\n",
       "3    4      10,001-15,000    14273    175900847          0.67\n",
       "4    5      15,001-20,000     6754    119355154          0.46\n",
       "5    6      20,001-30,000     6766    165777072          0.63\n",
       "6    7      30,001-40,000     3183    110618298          0.42\n",
       "7    8      40,001-50,000     1907     86144274          0.33\n",
       "8    9     50,001-100,000     3765    262934181          1.01\n",
       "9   10    100,001-200,000     1912    265348010          1.02\n",
       "10  11    200,001-400,000     1253    349991801          1.34\n",
       "11  12    400,001-600,000      556    273382543          1.05\n",
       "12  13    600,001-800,000      322    224449946          0.86\n",
       "13  14  800,001-1,000,000      204    184661357          0.71\n",
       "14  15        1,000,001以上     1540  22614147668         87.20\n",
       "15  16                合　計  1394105  25932733242        100.00"
      ]
     },
     "execution_count": 15,
     "metadata": {},
     "output_type": "execute_result"
    }
   ],
   "source": [
    "dfs[1]"
   ]
  },
  {
   "cell_type": "code",
   "execution_count": null,
   "id": "7ec92e85-bce8-4001-9b9e-3c33ac987611",
   "metadata": {},
   "outputs": [],
   "source": []
  }
 ],
 "metadata": {
  "kernelspec": {
   "display_name": "Python 3 (ipykernel)",
   "language": "python",
   "name": "python3"
  },
  "language_info": {
   "codemirror_mode": {
    "name": "ipython",
    "version": 3
   },
   "file_extension": ".py",
   "mimetype": "text/x-python",
   "name": "python",
   "nbconvert_exporter": "python",
   "pygments_lexer": "ipython3",
   "version": "3.11.3"
  }
 },
 "nbformat": 4,
 "nbformat_minor": 5
}
