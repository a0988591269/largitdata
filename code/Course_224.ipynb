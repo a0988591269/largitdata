{
 "cells": [
  {
   "cell_type": "code",
   "execution_count": 3,
   "id": "7901d258",
   "metadata": {},
   "outputs": [],
   "source": [
    "import requests\n",
    "prompt = \"cute python logo\"\n",
    "payload =  {\"type\":2,\"application_id\":\"936929561302675456\",\"guild_id\":\"1064853922369503303\",\n",
    "            \"channel_id\":\"1110549314780020766\",\"session_id\":\"4cdee4eb482dfcc5b7d5f61d540b2373\",\n",
    "            \"data\":{\"version\":\"1077969938624553050\",\"id\":\"938956540159881230\",\n",
    "                    \"name\":\"imagine\",\"type\":1,\"options\":[{\"type\":3,\"name\":\"prompt\",\"value\": prompt}],\n",
    "                    \"application_command\":{\"id\":\"938956540159881230\",\"application_id\":\"936929561302675456\",\n",
    "                                           \"version\":\"1077969938624553050\",\n",
    "                                           \"default_member_permissions\":None,\"type\":1,\"nsfw\":False,\"name\":\n",
    "                                           \"imagine\",\"description\":\"Create images with Midjourney\",\n",
    "                                           \"dm_permission\":True,\"contexts\":None,\n",
    "                                           \"options\":[{\"type\":3,\"name\":\"prompt\",\n",
    "                                                       \"description\":\"The prompt to imagine\",\"required\":True}]},\"attachments\":[]},\n",
    "            }\n",
    "headers = {'Authorization':'<AUTH>'}\n",
    "res = requests.post('https://discord.com/api/v9/interactions', json= payload, headers = headers)"
   ]
  },
  {
   "cell_type": "code",
   "execution_count": 44,
   "id": "5331311a",
   "metadata": {},
   "outputs": [],
   "source": [
    "prompt_generator = \"\"\"\n",
    "As a prompt generator for a generative AI called \"Midjourney\", \n",
    "you will create image prompts for the AI to visualize. I will give you a concept, \n",
    "and you will provide a detailed prompt for Midjourney AI to generate an image.\n",
    "\n",
    "\n",
    "Please adhere to the structure and formatting below, and follow these guidelines:\n",
    "\n",
    "- Do not use the words \"description\" or \":\" in any form.\n",
    "- Do not place a comma between [ar] and [v].\n",
    "- Write each prompt in one line without using return.\n",
    "\n",
    "Structure:\n",
    "[1] = {}\n",
    "[2] = a detailed description of [1] with specific imagery details.\n",
    "[3] = a detailed description of the scene's environment.\n",
    "[4] = a detailed description of the scene's mood, feelings, and atmosphere.\n",
    "[5] = A style (e.g. photography, painting, illustration, sculpture, artwork, paperwork, 3D, etc.) for [1].\n",
    "[6] = A description of how [5] will be executed (e.g. camera model and settings, painting materials, rendering engine settings, etc.)\n",
    "[ar] = Use \"--ar 16:9\" for horizontal images, \"--ar 9:16\" for vertical images, or \"--ar 1:1\" for square images.\n",
    "[v] = Use \"--niji\" for Japanese art style, or \"--v 5\" for other styles.\n",
    "\n",
    "Formatting: \n",
    "Follow this prompt structure: \"/imagine prompt: [1], [2], [3], [4], [5], [6], [ar] [v]\".\n",
    "\n",
    "Your task: Create 4 distinct prompts for each concept [1], varying in description, environment, atmosphere, and realization.\n",
    "\n",
    "- Write your prompts in English.\n",
    "- Do not describe unreal concepts as \"real\" or \"photographic\".\n",
    "- Include one realistic photographic style prompt with lens type and size.\n",
    "- Separate different prompts with two new lines.\n",
    "\n",
    "Example Prompts:\n",
    "Prompt 1:\n",
    "/imagine prompt: A stunning Halo Reach landscape with a Spartan on a hilltop, lush green forests surround them, clear sky, distant city view, focusing on the Spartan's majestic pose, intricate armor, and weapons, Artwork, oil painting on canvas, --ar 16:9 --v 5\n",
    "\n",
    "Prompt 2:\n",
    "/imagine prompt: A captivating Halo Reach landscape with a Spartan amidst a battlefield, fallen enemies around, smoke and fire in the background, emphasizing the Spartan's determination and bravery, detailed environment blending chaos and beauty, Illustration, digital art, --ar 16:9 --v 5\"\n",
    "\n",
    "\"\"\".format(headline)"
   ]
  },
  {
   "cell_type": "code",
   "execution_count": 45,
   "id": "65d244b4",
   "metadata": {},
   "outputs": [
    {
     "data": {
      "text/plain": [
       "'\\nAs a prompt generator for a generative AI called \"Midjourney\", \\nyou will create image prompts for the AI to visualize. I will give you a concept, \\nand you will provide a detailed prompt for Midjourney AI to generate an image.\\n\\n\\nPlease adhere to the structure and formatting below, and follow these guidelines:\\n\\n- Do not use the words \"description\" or \":\" in any form.\\n- Do not place a comma between [ar] and [v].\\n- Write each prompt in one line without using return.\\n\\nStructure:\\n[1] = 壯男超商襲警露肌肉嘶吼 警腦震盪就醫\\n[2] = a detailed description of [1] with specific imagery details.\\n[3] = a detailed description of the scene\\'s environment.\\n[4] = a detailed description of the scene\\'s mood, feelings, and atmosphere.\\n[5] = A style (e.g. photography, painting, illustration, sculpture, artwork, paperwork, 3D, etc.) for [1].\\n[6] = A description of how [5] will be executed (e.g. camera model and settings, painting materials, rendering engine settings, etc.)\\n[ar] = Use \"--ar 16:9\" for horizontal images, \"--ar 9:16\" for vertical images, or \"--ar 1:1\" for square images.\\n[v] = Use \"--niji\" for Japanese art style, or \"--v 5\" for other styles.\\n\\nFormatting: \\nFollow this prompt structure: \"/imagine prompt: [1], [2], [3], [4], [5], [6], [ar] [v]\".\\n\\nYour task: Create 4 distinct prompts for each concept [1], varying in description, environment, atmosphere, and realization.\\n\\n- Write your prompts in English.\\n- Do not describe unreal concepts as \"real\" or \"photographic\".\\n- Include one realistic photographic style prompt with lens type and size.\\n- Separate different prompts with two new lines.\\n\\nExample Prompts:\\nPrompt 1:\\n/imagine prompt: A stunning Halo Reach landscape with a Spartan on a hilltop, lush green forests surround them, clear sky, distant city view, focusing on the Spartan\\'s majestic pose, intricate armor, and weapons, Artwork, oil painting on canvas, --ar 16:9 --v 5\\n\\nPrompt 2:\\n/imagine prompt: A captivating Halo Reach landscape with a Spartan amidst a battlefield, fallen enemies around, smoke and fire in the background, emphasizing the Spartan\\'s determination and bravery, detailed environment blending chaos and beauty, Illustration, digital art, --ar 16:9 --v 5\"\\n\\n'"
      ]
     },
     "execution_count": 45,
     "metadata": {},
     "output_type": "execute_result"
    }
   ],
   "source": [
    "headline = '壯男超商襲警露肌肉嘶吼 警腦震盪就醫'\n",
    "prompt_generator"
   ]
  },
  {
   "cell_type": "code",
   "execution_count": 48,
   "id": "768aedcd",
   "metadata": {},
   "outputs": [
    {
     "name": "stdout",
     "output_type": "stream",
     "text": [
      "{\n",
      "  \"content\": \"Prompt 1:\\n/imagine prompt: A muscular man screaming and flexing his muscles as he attacks a convenience store clerk, police officers rushing in to restrain him as the injured clerk lies in the foreground, chaotic environment with scattered snacks and overturned shelves, tense atmosphere with fear and confusion, 3D art, realistic rendering, --ar 9:16 --v 5\\n\\nPrompt 2:\\n/imagine prompt: A burly attacker forcefully pushing a store clerk against a wall with one arm while grabbing fistfuls of merchandise with the other, police officers entering the scene with weapons drawn, store shelves lined with snack food and soft drinks contrasted with the violent confrontation, anxious atmosphere with heightened adrenaline, photography, high-speed shutter 1/200 and wide-angle lens, --ar 3:2\\n\\nPrompt 3:\\n/imagine prompt: Flashing red and blue lights illuminate an outdoor convenience store in the dead of night, a heaving man being restrained and cuffed by a group of police officers while his arms bulge with captured snacks, twisted metal and broken glass littering the pavement, uneasy environment emphasizing the chaos of the attack, tense atmosphere that emphasizes danger, painting, charcoal and parchment paper, --ar 16:9 --niji \\n\\nPrompt 4:\\n/imagine prompt: A massive attacker showing off his bulging muscles by ripping off his shirt in a convenience store, police officers caught off guard and trying to restrain him, slushy machines and snack aisles adding sensory detail in the background, aggressive atmosphere focusing on the attacker's display of brute strength, fine art, oil pastels with thick brushstrokes, --ar 4:3\",\n",
      "  \"role\": \"assistant\"\n",
      "}\n"
     ]
    }
   ],
   "source": [
    "import os\n",
    "import openai\n",
    "openai.api_key = '<YOUR OPENAPI KEY>'\n",
    "\n",
    "completion = openai.ChatCompletion.create(\n",
    "  model=\"gpt-3.5-turbo\",\n",
    "  messages=[\n",
    "    {\"role\": \"user\", \"content\": prompt_generator}\n",
    "  ]\n",
    ")\n",
    "\n",
    "print(completion.choices[0].message)\n"
   ]
  },
  {
   "cell_type": "code",
   "execution_count": 55,
   "id": "07f8b223",
   "metadata": {},
   "outputs": [
    {
     "data": {
      "text/plain": [
       "' Flashing red and blue lights illuminate an outdoor convenience store in the dead of night, a heaving man being restrained and cuffed by a group of police officers while his arms bulge with captured snacks, twisted metal and broken glass littering the pavement, uneasy environment emphasizing the chaos of the attack, tense atmosphere that emphasizes danger, painting, charcoal and parchment paper, --ar 16:9 --niji '"
      ]
     },
     "execution_count": 55,
     "metadata": {},
     "output_type": "execute_result"
    }
   ],
   "source": [
    "completion.choices[0].message.content.split('\\n\\n')[2].split('/imagine prompt:')[1]"
   ]
  },
  {
   "cell_type": "code",
   "execution_count": 54,
   "id": "809390cd",
   "metadata": {},
   "outputs": [],
   "source": [
    "import requests\n",
    "prompt = completion.choices[0].message.content.split('\\n\\n')[2].split('/imagine prompt:')[1]\n",
    "payload =  {\"type\":2,\"application_id\":\"936929561302675456\",\"guild_id\":\"1064853922369503303\",\n",
    "            \"channel_id\":\"1110549314780020766\",\"session_id\":\"4cdee4eb482dfcc5b7d5f61d540b2373\",\n",
    "            \"data\":{\"version\":\"1077969938624553050\",\"id\":\"938956540159881230\",\n",
    "                    \"name\":\"imagine\",\"type\":1,\"options\":[{\"type\":3,\"name\":\"prompt\",\"value\": prompt}],\n",
    "                    \"application_command\":{\"id\":\"938956540159881230\",\"application_id\":\"936929561302675456\",\n",
    "                                           \"version\":\"1077969938624553050\",\n",
    "                                           \"default_member_permissions\":None,\"type\":1,\"nsfw\":False,\"name\":\n",
    "                                           \"imagine\",\"description\":\"Create images with Midjourney\",\n",
    "                                           \"dm_permission\":True,\"contexts\":None,\n",
    "                                           \"options\":[{\"type\":3,\"name\":\"prompt\",\n",
    "                                                       \"description\":\"The prompt to imagine\",\"required\":True}]},\"attachments\":[]},\n",
    "            }\n",
    "headers = {'Authorization':'<AUTH>'}\n",
    "res = requests.post('https://discord.com/api/v9/interactions', json= payload, headers = headers)"
   ]
  },
  {
   "cell_type": "code",
   "execution_count": null,
   "id": "b300c32b",
   "metadata": {},
   "outputs": [],
   "source": []
  }
 ],
 "metadata": {
  "kernelspec": {
   "display_name": "Python 3 (ipykernel)",
   "language": "python",
   "name": "python3"
  },
  "language_info": {
   "codemirror_mode": {
    "name": "ipython",
    "version": 3
   },
   "file_extension": ".py",
   "mimetype": "text/x-python",
   "name": "python",
   "nbconvert_exporter": "python",
   "pygments_lexer": "ipython3",
   "version": "3.8.10"
  }
 },
 "nbformat": 4,
 "nbformat_minor": 5
}
