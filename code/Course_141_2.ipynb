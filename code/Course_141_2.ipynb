{
 "cells": [
  {
   "cell_type": "code",
   "execution_count": 3,
   "metadata": {},
   "outputs": [],
   "source": [
    "#! pip install mitmproxy"
   ]
  },
  {
   "cell_type": "code",
   "execution_count": 4,
   "metadata": {},
   "outputs": [
    {
     "name": "stdout",
     "output_type": "stream",
     "text": [
      "\u001b7\u001b[?47h\u001b[?1002l\u001b[?1000l\u001b[?1000h\u001b[?1002h\u001b)0\u001b[?25l\u001b[0;39;49m\u001b[H\u001b[1;1H\u001b[0;38;5;254;48;5;240m\u000fFlows\u001b[K\u001b[2;1H\u001b[0;39;49m\u000f\u001b[K\u001b[3;1H\u001b[0;39;49m\u000f\u001b[K\u001b[4;1H\u001b[0;39;49m\u000f\u001b[K\u001b[5;1H\u001b[0;39;49m\u000f\u001b[K\u001b[6;1H\u001b[0;39;49m\u000f\u001b[K\u001b[7;1H\u001b[0;39;49m\u000f\u001b[K\u001b[8;1H\u001b[0;39;49m\u000f\u001b[K\u001b[9;1H\u001b[0;39;49m\u000f\u001b[K\u001b[10;1H\u001b[0;39;49m\u000f\u001b[K\u001b[11;1H\u001b[0;39;49m\u000f\u001b[K\u001b[12;1H\u001b[0;39;49m\u000f\u001b[K\u001b[13;1H\u001b[0;39;49m\u000f\u001b[K\u001b[14;1H\u001b[0;39;49m\u000f\u001b[K\u001b[15;1H\u001b[0;39;49m\u000f\u001b[K\u001b[16;1H\u001b[0;39;49m\u000f\u001b[K\u001b[17;1H\u001b[0;39;49m\u000f\u001b[K\u001b[18;1H\u001b[0;39;49m\u000f\u001b[K\u001b[19;1H\u001b[0;39;49m\u000f\u001b[K\u001b[20;1H\u001b[0;39;49m\u000f\u001b[K\u001b[21;1H\u001b[0;39;49m\u000f\u001b[K\u001b[22;1H\u001b[0;39;49m\u000f\u001b[K\u001b[23;1H\u001b[0;38;5;254;48;5;240m\u000f⇩  [0/0]                                                                [*:8080]\u001b[24;1H\u001b[0;39;49m\u000f\u001b[K\u001b[?25l\u001b[0;39;49m\u001b[H\u001b[1;1H\u001b[?25l\u001b[0;39;49m\u001b[H\u001b[1;1H\u001b[?25l\u001b[0;39;49m\u001b[H\u001b[1;1H\u001b[?25l\u001b[0;39;49m\u001b[H\u001b[1;1H\u001b[?25l\u001b[0;39;49m\u001b[H\u001b[1;1H\u001b[?25l\u001b[0;39;49m\u001b[H\u001b[1;1H\u001b[?25l\u001b[0;39;49m\u001b[H\u001b[1;1H\u001b[?25l\u001b[0;39;49m\u001b[H\u001b[1;1H\u001b[?25l\u001b[0;39;49m\u001b[H\u001b[1;1H\u001b[?25l\u001b[0;39;49m\u001b[H\u001b[1;1H\u001b[?25l\u001b[0;39;49m\u001b[H\u001b[1;1H\u001b[?25l\u001b[0;39;49m\u001b[H\u001b[1;1H\u001b[?25l\u001b[0;39;49m\u001b[H\u001b[1;1H\u001b[24;1H\u001b[0;39;49m\u000fQuit (\u001b[0;38;5;33;49my\u001b[0;38;5;245;49mes\u001b[0;39;49m,\u001b[0;38;5;33;49mn\u001b[0;38;5;245;49mo\u001b[0;39;49m)?\u001b[K\u001b[24;16H\u001b[?25h"
     ]
    }
   ],
   "source": [
    "! mitmproxy"
   ]
  },
  {
   "cell_type": "code",
   "execution_count": 6,
   "metadata": {},
   "outputs": [],
   "source": [
    "! open . "
   ]
  },
  {
   "cell_type": "code",
   "execution_count": 8,
   "metadata": {},
   "outputs": [
    {
     "data": {
      "text/plain": [
       "{'token': 'LDS4695711890'}"
      ]
     },
     "execution_count": 8,
     "metadata": {},
     "output_type": "execute_result"
    }
   ],
   "source": [
    "import requests\n",
    "res = requests.get('http://210.65.131.75/jsp/setToken.jsp')\n",
    "res.json()"
   ]
  },
  {
   "cell_type": "code",
   "execution_count": null,
   "metadata": {},
   "outputs": [],
   "source": []
  }
 ],
 "metadata": {
  "kernelspec": {
   "display_name": "Python 3",
   "language": "python",
   "name": "python3"
  },
  "language_info": {
   "codemirror_mode": {
    "name": "ipython",
    "version": 3
   },
   "file_extension": ".py",
   "mimetype": "text/x-python",
   "name": "python",
   "nbconvert_exporter": "python",
   "pygments_lexer": "ipython3",
   "version": "3.7.3"
  }
 },
 "nbformat": 4,
 "nbformat_minor": 4
}
